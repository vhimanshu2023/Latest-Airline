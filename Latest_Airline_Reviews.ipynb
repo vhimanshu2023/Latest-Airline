{
  "nbformat": 4,
  "nbformat_minor": 0,
  "metadata": {
    "colab": {
      "provenance": []
    },
    "kernelspec": {
      "name": "python3",
      "display_name": "Python 3"
    },
    "language_info": {
      "name": "python"
    }
  },
  "cells": [
    {
      "cell_type": "code",
      "execution_count": null,
      "metadata": {
        "colab": {
          "base_uri": "https://localhost:8080/"
        },
        "id": "Aii2EBuKnN7E",
        "outputId": "63abec84-cb0f-405b-a3bb-65c80ecf32a3"
      },
      "outputs": [
        {
          "output_type": "stream",
          "name": "stdout",
          "text": [
            "['9air', 'Air Canada', 'Air Europa', 'Air India', 'AirAsia', 'airblue', 'American Airlines', 'Austrian Airlines', 'Avelo Airlines', 'Breeze Airways', 'British Airways', 'Cathay Pacific Airways', 'Delta Air Lines', 'Emirates', 'Frontier Airlines', 'ITA Airways', 'Jetblue Airways', 'Jetstar Airways', 'Kenya Airways', 'KLM Royal Dutch Airlines', 'Lao Airlines', 'Lufthansa', 'PLAY', 'Qantas Airways', 'Ryanair', 'Scoot', 'Sky Airline', 'Sky Express Airlines', 'SpiceJet', 'Spirit Airlines', 'Tailwind Airlines', 'Thai Airways', 'Turkish Airlines', 'United Airlines', 'Vistara', 'Volotea', 'Wizz Air']\n"
          ]
        }
      ],
      "source": [
        "import requests\n",
        "from bs4 import BeautifulSoup\n",
        "import pandas as pd\n",
        "import datetime\n",
        "url = 'https://www.airlinequality.com/review-pages/latest-airline-reviews/'\n",
        "\n",
        "html_text = requests.get(url).content\n",
        "\n",
        "soup = BeautifulSoup(html_text,'lxml')\n",
        "\n",
        "record_date = str(datetime.date.today())\n",
        "\n",
        "\n",
        "\n",
        "\n",
        "Airline_Names = []\n",
        "def latest_airline_name():\n",
        "    all_airline_name = soup.find('ul', class_='item')\n",
        "    for i in all_airline_name:\n",
        "      Airline_Names.append(i.get_text())\n",
        "latest_airline_name()\n",
        "print(Airline_Names)"
      ]
    },
    {
      "cell_type": "code",
      "source": [
        "Airline_Reviews = []\n",
        "def Each_Airline(airline_name):\n",
        "\n",
        "  page = 1\n",
        "  print(\"---\",airline_name,\"---\")\n",
        "  while(page<=1):\n",
        "    print(f'collect page {page}')\n",
        "    url = f\"https://www.airlinequality.com/airline-reviews/{airline_name.lower().replace(' ','-')}/page/{page}/\"\n",
        "    html_text = requests.get(url).content\n",
        "    soup = BeautifulSoup(html_text,'lxml')\n",
        "    if soup.find('article',itemprop='review') is not None:\n",
        "      all_review = soup.find_all('article',itemprop='review')\n",
        "      for i in all_review:\n",
        "        dictionary_of_reviews = {}\n",
        "        user_name = i.find('span',itemprop='name').get_text()\n",
        "\n",
        "        if i.find('span',itemprop='ratingValue') is not None:\n",
        "          rating = i.find('span',itemprop='ratingValue').get_text()\n",
        "        else:\n",
        "          rating = 0\n",
        "        if i.find('h2',class_='text_header') is not None:\n",
        "          experience = i.find('h2',class_='text_header').get_text()\n",
        "        else:\n",
        "          experience = 'N/A'\n",
        "        date = i.find('time',itemprop='datePublished').get_text()\n",
        "        review = i.find('div',class_='text_content').get_text()\n",
        "        d = {}\n",
        "        for x in i.find('table',class_='review-ratings').find_all('tr'):\n",
        "          key = x.find_all('td')[0].get_text()\n",
        "          value = x.find_all('td')[1]\n",
        "          if value.find('span'):\n",
        "            value = len(value.find_all('span',class_='star fill'))\n",
        "          else:\n",
        "            value = value.get_text()\n",
        "          d[key] = value\n",
        "        dictionary_of_reviews['Recorded_Date'] = record_date\n",
        "        dictionary_of_reviews['Airline'] = airline_name\n",
        "        dictionary_of_reviews['User_Name'] = user_name\n",
        "        dictionary_of_reviews['Rating'] = rating\n",
        "        dictionary_of_reviews['Experience'] = experience\n",
        "        dictionary_of_reviews['Review_Date'] = date\n",
        "        dictionary_of_reviews['Review'] = review\n",
        "        dictionary_of_reviews['Detail'] = d\n",
        "        Airline_Reviews.append(dictionary_of_reviews)\n",
        "        print(dictionary_of_reviews)\n",
        "    page += 1\n",
        "  # return Airline_Reviews\n",
        "Each_Airline('air india')\n",
        "# for i in Airline_Names:\n",
        "#   Each_Airline(i)\n",
        "# new_data = pd.json_normalize(Airline_Reviews)\n",
        "# new_data.columns = new_data.columns.str.replace('Detail.','')\n",
        "# new_data.columns = new_data.columns.str.replace('& ','')\n",
        "# new_data.columns = new_data.columns.str.replace(' ','_')\n",
        "# new_data.columns = new_data.columns.str.lower()\n",
        "# new_data['recorded_date'] = pd.to_datetime(new_data['recorded_date'])\n",
        "# new_data.to_csv('Airline_Reviews.csv')"
      ],
      "metadata": {
        "colab": {
          "base_uri": "https://localhost:8080/"
        },
        "id": "wzNpnUgZngf0",
        "outputId": "d69648bb-e4a2-46aa-af8c-b049393887d8"
      },
      "execution_count": null,
      "outputs": [
        {
          "output_type": "stream",
          "name": "stdout",
          "text": [
            "--- air india ---\n",
            "collect page 1\n",
            "{'Recorded_Date': '2024-03-16', 'Airline': 'air india', 'User_Name': 'Jitendra Prasad', 'Rating': '1', 'Experience': '\"change the gates any time\"', 'Review_Date': '16th March 2024', 'Review': \"Not Verified | Worst airline I have travelled on. Flights are delayed because they don't have staff to check in passengers.  Staff hardly speak English and they don't understand. They would change the gates any time without announcing on the speaker. Their staff came and spoke in his language to a passenger that the gate has change. \", 'Detail': {'Type Of Traveller': 'Couple Leisure', 'Seat Type': 'Economy Class', 'Route': 'Amritsar to Delhi', 'Date Flown': 'March 2024', 'Seat Comfort': 1, 'Cabin Staff Service': 1, 'Ground Service': 1, 'Value For Money': 1, 'Recommended': 'no'}}\n",
            "{'Recorded_Date': '2024-03-16', 'Airline': 'air india', 'User_Name': 'B Paneyas', 'Rating': '1', 'Experience': '\"unprofessional and uncooperative\"', 'Review_Date': '16th March 2024', 'Review': \"✅ Trip Verified |  I check in into terminal 2 of airport properly as per ticket so not only me but along with me several families were misguided to go to gate 6 and 7. After we enter the gate there is no representative of Air India to guide us, people were late on top of it security gate delay and than no one responsible person. The staff tells us this is domestic counter you go to international and no body of their staff knows where is this international counter all clueless people ok after that people some how reach the international counter. The moment we go 5 to 10 mins before the reporting time their staff informs the flight is closed and you'll will have to go to managers. They give us big lecture on time and all so we told them we were already there on time your staff misguided us on wrong gate. They are very very good at telling you your duties but they are unprofessional and uncooperative people.\", 'Detail': {'Type Of Traveller': 'Business', 'Seat Type': 'Economy Class', 'Route': 'Mumbai to Colombo via Chennai', 'Date Flown': 'March 2024', 'Seat Comfort': 1, 'Ground Service': 1, 'Value For Money': 1, 'Recommended': 'no'}}\n",
            "{'Recorded_Date': '2024-03-16', 'Airline': 'air india', 'User_Name': 'Gulmira Chamoli', 'Rating': '1', 'Experience': '\"Air India lost my luggage\" ', 'Review_Date': '15th March 2024', 'Review': '✅ Trip Verified |\\xa0\\xa0The worst airline in the world I was traveling from Dubai to Delhi and Air India lost my luggage. First they said Dubai didn’t send which was a lie, because Dubai airport sent on same day. After they was telling me we don’t know where is your luggage. ', 'Detail': {'Type Of Traveller': 'Family Leisure', 'Seat Type': 'Economy Class', 'Route': 'Dubai to New Delhi', 'Date Flown': 'March 2024', 'Seat Comfort': 1, 'Cabin Staff Service': 1, 'Ground Service': 1, 'Value For Money': 1, 'Recommended': 'no'}}\n",
            "{'Recorded_Date': '2024-03-16', 'Airline': 'air india', 'User_Name': 'Usha Nair', 'Rating': '8', 'Experience': '\"Excellent leg room\" ', 'Review_Date': '14th March 2024', 'Review': 'Not Verified |\\xa0 \\xa0Travelled 1st March London to Thiruvanthapuram via Mumbai. Also on 8th March Thiruvanthapuram to Delhi and then to Amristsar. Then return to Thiruvanthapuram on 10th and flew back to London via Mumbai on 12th. So multiple flights (8) in 1-2days. The staff were great, no issues very customer focused, food quality and taste excellent on board. Excellent leg room and seats comfortable. I noticed a few passengers had screens not working. The only issue we had was during transfer from Mumbai to Thiruvanthapuram at Mumbai airport it was like a cattle market - complete lack of order and no queuing system, Air India staff screeching at passengers waiting to check in their luggage again. That definitely needs improving! Other than that the check in staff were very courteous and polite. Air India personnel at Thiruvanthapuram-exceptional. Definitely will fly with Air India again.', 'Detail': {'Type Of Traveller': 'Couple Leisure', 'Seat Type': 'Economy Class', 'Route': 'London to Thiruvanthapuram via Mumbai', 'Date Flown': 'March 2024', 'Seat Comfort': 4, 'Cabin Staff Service': 5, 'Food & Beverages': 5, 'Inflight Entertainment': 4, 'Ground Service': 4, 'Value For Money': 5, 'Recommended': 'yes'}}\n",
            "{'Recorded_Date': '2024-03-16', 'Airline': 'air india', 'User_Name': 'K Cheung', 'Rating': '2', 'Experience': '\"very unenjoyable flight\" ', 'Review_Date': '10th March 2024', 'Review': '✅ Trip Verified |\\xa0\\xa0Old aircraft. Most of the IFE were out of order, even after rebooting. One passenger whose IFE worked said the IFE was exactly the same as 9 years ago when the 787 arrived for Air India. Toilets dirty. No call buttons & light buttons. In trying to read, I had to catch the attention of a flight attendant who passed by. She had to turn it on via the wall mount behind the crew seat for me. The same happened when I wanted to have the light turned off. It was a dilapidated aircraft in need of refurbishment. The 12.5 hour flight felt very long, as there was no IFE. Food was of meagre portion. One small tray of main plus 2 small cartons of side dessert. It was a very unenjoyable flight. Seat very hard, tailbone hurt after sitting for a long time. Instead of 8 abreast, AI uses a 9 abreast configuration.', 'Detail': {'Aircraft': 'Boeing 787-8', 'Type Of Traveller': 'Solo Leisure', 'Seat Type': 'Economy Class', 'Route': 'Melbourne to Mumbai ', 'Date Flown': 'February 2024', 'Seat Comfort': 2, 'Cabin Staff Service': 4, 'Food & Beverages': 2, 'Ground Service': 3, 'Value For Money': 3, 'Recommended': 'no'}}\n",
            "{'Recorded_Date': '2024-03-16', 'Airline': 'air india', 'User_Name': 'K Cheung', 'Rating': '8', 'Experience': '\"No light button for reading too\" ', 'Review_Date': '10th March 2024', 'Review': '✅ Trip Verified |\\xa0\\xa0Aircraft newer than the one of the previous trip, but not refurbished. IFE worked. After take off, a hot snack/supper served, with 2 choices, veg & non veg, then breakfast / lunch. Portion standard. Toilets cleaner than the previous flight. 9 abreast configuration makes aisles very narrow. Seat a bit hard,. Did not use call button, but supposed there was none. No light button for reading too. Also like the fact that after the flight, I was surprised the flight attendant did not collect the food trays in order. She collected them in her own order. It took a long time for her to collect mine. Shortly after I sat down in my seat, in seeing that I had a head dressing due to injury, the flight attendant asked if I needed any help. ', 'Detail': {'Aircraft': 'Boeing 787-8', 'Type Of Traveller': 'Solo Leisure', 'Seat Type': 'Economy Class', 'Route': 'Mumbai to Melbourne ', 'Date Flown': 'March 2024', 'Seat Comfort': 2, 'Cabin Staff Service': 4, 'Food & Beverages': 4, 'Ground Service': 4, 'Value For Money': 4, 'Recommended': 'yes'}}\n",
            "{'Recorded_Date': '2024-03-16', 'Airline': 'air india', 'User_Name': 'Nidhi Nigam', 'Rating': '1', 'Experience': '\"worst international flight experience\"', 'Review_Date': '6th March 2024', 'Review': 'Not Verified |  It was the worst international flight experience. I booked with Air India for my parents considering that it will be the best Airlines for senior Indian citizen. I was wrong. First the flight was late more than 2 hours.  I had requested for wheel chair assistance at Delhi airport but they never received that assistance. ', 'Detail': {'Type Of Traveller': 'Family Leisure', 'Seat Type': 'Economy Class', 'Route': 'Vancouver to New Delhi', 'Date Flown': 'March 2024', 'Seat Comfort': 1, 'Cabin Staff Service': 1, 'Food & Beverages': 1, 'Inflight Entertainment': 1, 'Ground Service': 1, 'Wifi & Connectivity': 1, 'Value For Money': 1, 'Recommended': 'no'}}\n",
            "{'Recorded_Date': '2024-03-16', 'Airline': 'air india', 'User_Name': 'Alex Parvati', 'Rating': '1', 'Experience': '“Nothing was working”', 'Review_Date': '5th March 2024', 'Review': '✅ Trip Verified | Nothing was working: no screen, no movies, no music, no light, staff very unpolite, food very bad. And very expensive ticket, for what you get, better to use other airlines.', 'Detail': {'Type Of Traveller': 'Solo Leisure', 'Seat Type': 'Economy Class', 'Route': 'Delhi to Milan', 'Date Flown': 'February 2024', 'Seat Comfort': 1, 'Cabin Staff Service': 1, 'Food & Beverages': 1, 'Inflight Entertainment': 1, 'Ground Service': 1, 'Wifi & Connectivity': 1, 'Value For Money': 1, 'Recommended': 'no'}}\n",
            "{'Recorded_Date': '2024-03-16', 'Airline': 'air india', 'User_Name': 'Anjana Dhrestha', 'Rating': '1', 'Experience': '\"a nightmare that might haunt me\"', 'Review_Date': '5th March 2024', 'Review': 'Not Verified |  The travel with air India came up being a nightmare that might haunt me in the future travels as well. There were so many big issues that I am writing this review so you do not have to go through the same thing I did. Too crowded and unhygienic.  For a flight of 12 hours we did not anything to entertain because the screen for almost half of flight was not working. Flights was delayed for almost 3 hours with no transparent information and from the beginning the delay time was 20 minutes which added up to almost 3 hours. Due to delay we lost our next flight which was also via air India and the staff at Delhi airport tried every possible way to make us find our own accommodation and even asked us to lie at Indian immigration parrotting us to tell we want to visit Delhi not the real reason that we had to get out as they couldn’t provide us accommodation within the airport premises which ended up creating a discussion and kind of scene. When I arrived to Kathmandu airport, I had missing baggage and its still missing. Only good thing was the crew team members ”air hostess “ were humble and helpful Avoid trouble avoid Air India', 'Detail': {'Type Of Traveller': 'Solo Leisure', 'Seat Type': 'Economy Class', 'Route': 'Sydney to Kathmandu via Delhi', 'Date Flown': 'March 2024', 'Seat Comfort': 2, 'Cabin Staff Service': 4, 'Food & Beverages': 3, 'Inflight Entertainment': 1, 'Ground Service': 1, 'Wifi & Connectivity': 1, 'Value For Money': 3, 'Recommended': 'no'}}\n",
            "{'Recorded_Date': '2024-03-16', 'Airline': 'air india', 'User_Name': 'Kishor Bhattarai', 'Rating': '8', 'Experience': '“good decent service”', 'Review_Date': '4th March 2024', 'Review': '✅ Trip Verified | I have been helped by the reviews here, so decided to share my experience from Washington DC to Kathmandu via Delhi. Flight time/duration and price was just too tempting to give AI a try and I am glad I tried them. I find their economy seats comfortable and good decent service. However, restrooms cleanliness can be improved. I did not care about entertainment system, so no comment on that. Hope Air India keeps improving. I will fly with them again.', 'Detail': {'Aircraft': 'Boeing 787-8', 'Type Of Traveller': 'Family Leisure', 'Seat Type': 'Economy Class', 'Route': 'Washington Dulles to Kathmandu via Delhi', 'Date Flown': 'March 2024', 'Seat Comfort': 5, 'Cabin Staff Service': 4, 'Food & Beverages': 4, 'Ground Service': 4, 'Value For Money': 5, 'Recommended': 'no'}}\n"
          ]
        }
      ]
    },
    {
      "cell_type": "code",
      "source": [],
      "metadata": {
        "id": "JuZs-Sqeznoo"
      },
      "execution_count": null,
      "outputs": []
    }
  ]
}